{
 "cells": [
  {
   "cell_type": "code",
   "execution_count": 18,
   "metadata": {},
   "outputs": [],
   "source": [
    "import requests\n",
    "\n",
    "from bs4 import BeautifulSoup"
   ]
  },
  {
   "cell_type": "code",
   "execution_count": 71,
   "metadata": {},
   "outputs": [
    {
     "name": "stdout",
     "output_type": "stream",
     "text": [
      "https://www.bakingmad.com/recipes/categories/bread-and-dough?page=2\n",
      "/recipes/classic-wholemeal-loaf\n",
      "/recipes/classic-white-bread-loaf\n",
      "/recipes/very-easy-white-bread-recipe\n",
      "/recipes/pizza-dough\n",
      "/recipes/white-bread-rolls\n",
      "/recipes/crusty-white-bread\n",
      "/recipes/tiger-bread\n",
      "/recipes/hand-baked-traditional-white-loaf\n",
      "/recipes/sundried-tomato-bread\n",
      "/recipes/wholemeal-bread-rolls\n",
      "/recipes/plaited-cheese-and-herb-bread\n",
      "/recipes/teacakes\n",
      "/recipes/hot-cross-buns\n",
      "/recipes/seed-and-grain-loaf\n",
      "/recipes/milk-loaf\n",
      "/recipes/cottage-loaf\n",
      "/recipes/crusty-white-plait\n",
      "/recipes/iced-finger-buns\n",
      "/recipes/chunky-walnut-bread\n",
      "/recipes/sourdough-hot-cross-buns\n"
     ]
    }
   ],
   "source": [
    "url = \"https://www.bakingmad.com/recipes/categories/bread-and-dough?page=\"\n",
    "\n",
    "print(url + str(2))\n",
    "\n",
    "result = requests.get(url + str(2))\n",
    "doc = BeautifulSoup(result.text, 'lxml')\n",
    "    \n",
    "res = doc.find_all('a', attrs={'class': 'RecipeCard_recipeCard__2xSZZ p-recipeCard'})\n",
    "    \n",
    "for r in res:\n",
    "    print(r[\"href\"])"
   ]
  },
  {
   "cell_type": "code",
   "execution_count": 68,
   "metadata": {},
   "outputs": [],
   "source": [
    "# print(doc.prettify())\n",
    "\n",
    "url = \"https://www.bakingmad.com/recipes/categories/bread-and-dough?page=\"\n",
    "\n",
    "bread_recipes = set()\n",
    "\n",
    "for page in range(1, 13):\n",
    "    result = requests.get(url + str(page))\n",
    "    doc = BeautifulSoup(result.text, 'lxml')\n",
    "    \n",
    "    res = doc.find_all('a', attrs={'class': 'RecipeCard_recipeCard__2xSZZ p-recipeCard'})\n",
    "    \n",
    "    for r in res:\n",
    "        bread_recipes.add(r[\"href\"])"
   ]
  },
  {
   "cell_type": "code",
   "execution_count": 67,
   "metadata": {},
   "outputs": [
    {
     "data": {
      "text/plain": [
       "20"
      ]
     },
     "execution_count": 67,
     "metadata": {},
     "output_type": "execute_result"
    }
   ],
   "source": [
    "len(bread_recipes)"
   ]
  },
  {
   "cell_type": "code",
   "execution_count": null,
   "metadata": {},
   "outputs": [],
   "source": []
  }
 ],
 "metadata": {
  "interpreter": {
   "hash": "81776384e5238d958920fac17cca705e7b116e07572d2f44ac45964c54f368c8"
  },
  "kernelspec": {
   "display_name": "Python 3.10.4 ('bakingmad-scraper')",
   "language": "python",
   "name": "python3"
  },
  "language_info": {
   "codemirror_mode": {
    "name": "ipython",
    "version": 3
   },
   "file_extension": ".py",
   "mimetype": "text/x-python",
   "name": "python",
   "nbconvert_exporter": "python",
   "pygments_lexer": "ipython3",
   "version": "3.10.4"
  },
  "orig_nbformat": 4
 },
 "nbformat": 4,
 "nbformat_minor": 2
}
